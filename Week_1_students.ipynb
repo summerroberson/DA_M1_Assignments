{
 "cells": [
  {
   "cell_type": "markdown",
   "metadata": {
    "colab_type": "text",
    "id": "view-in-github"
   },
   "source": [
    "<a href=\"https://colab.research.google.com/github/dmorton714/Code-You_assginments/blob/main/Week_1.ipynb\" target=\"_parent\"><img src=\"https://colab.research.google.com/assets/colab-badge.svg\" alt=\"Open In Colab\"/></a>"
   ]
  },
  {
   "cell_type": "markdown",
   "metadata": {
    "id": "bhBCSKvmCXlN"
   },
   "source": [
    "# Assignment 1\n",
    "\n",
    "- [Variables](#Variables)\n",
    "- [Data Types](#Data_Types)\n",
    "- [Conditionals](#Conditionals)\n",
    "- [Links](#Links)"
   ]
  },
  {
   "cell_type": "markdown",
   "metadata": {
    "id": "OVBbQhRTZr9_"
   },
   "source": [
    "<a id=\"Variables\"></a>\n",
    "## Variables"
   ]
  },
  {
   "cell_type": "markdown",
   "metadata": {
    "id": "Z3VGDk6JCl2p"
   },
   "source": [
    "In the code block below assign 40 to A.\n",
    "<br>\n",
    "Run the cell to verify your work."
   ]
  },
  {
   "cell_type": "code",
   "execution_count": 1,
   "metadata": {
    "id": "oYe_t8z1CkCR"
   },
   "outputs": [],
   "source": [
    "A=40"
   ]
  },
  {
   "cell_type": "markdown",
   "metadata": {
    "id": "QNdHWWFODT6p"
   },
   "source": [
    "Now assign 60 to B.\n",
    "<br>\n",
    "Run the cell to verify your work."
   ]
  },
  {
   "cell_type": "code",
   "execution_count": 2,
   "metadata": {
    "id": "FIlEJNaDDhye"
   },
   "outputs": [],
   "source": [
    "B=60"
   ]
  },
  {
   "cell_type": "markdown",
   "metadata": {
    "id": "eL2l8tARDlaV"
   },
   "source": [
    "We have now defined 2 variables. We have assigned values for A and B.\n",
    "<br>\n",
    "Now we are going to do some basic math. \n",
    "- Add the 2 variables together and run the cell.\n",
    "\n",
    "**Inside a notebook you don't have to use the print function. You can just add the variables and run the cell**"
   ]
  },
  {
   "cell_type": "code",
   "execution_count": 3,
   "metadata": {
    "colab": {
     "base_uri": "https://localhost:8080/"
    },
    "id": "R-5XhkYcD-dT",
    "outputId": "2854e896-89b3-4e5a-9329-b2de889c1a20"
   },
   "outputs": [
    {
     "data": {
      "text/plain": [
       "100"
      ]
     },
     "execution_count": 3,
     "metadata": {},
     "output_type": "execute_result"
    }
   ],
   "source": [
    "A+B"
   ]
  },
  {
   "cell_type": "markdown",
   "metadata": {
    "id": "5NJpQ0LwHX7a"
   },
   "source": [
    "Now let's subtract the 2 variables and run the cell."
   ]
  },
  {
   "cell_type": "code",
   "execution_count": 4,
   "metadata": {
    "colab": {
     "base_uri": "https://localhost:8080/"
    },
    "id": "7VLjV5uAHYGy",
    "outputId": "1f71d98a-8b11-4627-c536-3af7d290c3c2"
   },
   "outputs": [
    {
     "data": {
      "text/plain": [
       "-20"
      ]
     },
     "execution_count": 4,
     "metadata": {},
     "output_type": "execute_result"
    }
   ],
   "source": [
    "A-B"
   ]
  },
  {
   "cell_type": "markdown",
   "metadata": {
    "id": "UZ72edHiEfep"
   },
   "source": [
    "In python code reads top to bottom and left to right. So if we reassign B to 40 it will be 40 until we change it to something else.\n",
    "\n",
    "*This means it's important to name variables with good names so you don't reuse them.*\n",
    "\n",
    "\n",
    "---\n",
    "\n"
   ]
  },
  {
   "cell_type": "markdown",
   "metadata": {
    "id": "fFPSw82EHRCE"
   },
   "source": [
    "<a id=\"#Data_Types\"></a>\n",
    "## Data Types"
   ]
  },
  {
   "cell_type": "markdown",
   "metadata": {
    "id": "9bYTI4dvFh5T"
   },
   "source": [
    "| Example\t| Data Type\t|\n",
    "| --- | ---|\n",
    "| x = \"Hello World\"\t| str |\n",
    "| x = 20\t| int |\n",
    "| x = 20.5 | float |\n",
    "| x = [\"apple\", \"banana\", \"cherry\"] | list |\n",
    "| x = (\"apple\", \"banana\", \"cherry\") | tuple |\n",
    "| x = range(6) | range |\n",
    "| x = {\"name\" : \"John\", \"age\" : 36} | dict |\n",
    "| x = True | bool |"
   ]
  },
  {
   "cell_type": "markdown",
   "metadata": {
    "id": "Cb-q46yiH1FU"
   },
   "source": [
    "By default python will make an attempt to assign the proper data type to a value. \n",
    "It doesn't always get it right, so in good practice you can assign the type when you define the variable.\n",
    "<br>\n",
    "<br>\n",
    "- Assign A as an int with the value of 40.\n",
    "- You assign types by using the type and parentheses\n",
    "- Here we will use `int()`\n",
    "- you put your value inside the parentheses"
   ]
  },
  {
   "cell_type": "code",
   "execution_count": 5,
   "metadata": {
    "id": "x4DF2zeDMEim"
   },
   "outputs": [],
   "source": [
    "A=int(40)"
   ]
  },
  {
   "cell_type": "markdown",
   "metadata": {
    "id": "17sW4YjWMevm"
   },
   "source": [
    "we will use the `type()` function to verify we did it correctly. "
   ]
  },
  {
   "cell_type": "code",
   "execution_count": 6,
   "metadata": {
    "colab": {
     "base_uri": "https://localhost:8080/"
    },
    "id": "QjcpLJc1MhVh",
    "outputId": "78fa8feb-0235-442d-873a-8383a1a41c15"
   },
   "outputs": [
    {
     "data": {
      "text/plain": [
       "int"
      ]
     },
     "execution_count": 6,
     "metadata": {},
     "output_type": "execute_result"
    }
   ],
   "source": [
    "type(A)"
   ]
  },
  {
   "cell_type": "markdown",
   "metadata": {
    "id": "XrJnka-7MwyN"
   },
   "source": [
    "Using what we learned: \n",
    "- convert B to a float and assign its value to 60.\n",
    "- print the B to see if it looks different"
   ]
  },
  {
   "cell_type": "code",
   "execution_count": 7,
   "metadata": {
    "colab": {
     "base_uri": "https://localhost:8080/"
    },
    "id": "zc9JijJwM73C",
    "outputId": "c5cf2b51-dab2-44a3-bfce-99b321b288dd"
   },
   "outputs": [
    {
     "name": "stdout",
     "output_type": "stream",
     "text": [
      "60.0\n"
     ]
    }
   ],
   "source": [
    "B=float(60)\n",
    "print(B)"
   ]
  },
  {
   "cell_type": "markdown",
   "metadata": {},
   "source": [
    "Now use the type function again to verify its type. "
   ]
  },
  {
   "cell_type": "code",
   "execution_count": 8,
   "metadata": {},
   "outputs": [
    {
     "data": {
      "text/plain": [
       "float"
      ]
     },
     "execution_count": 8,
     "metadata": {},
     "output_type": "execute_result"
    }
   ],
   "source": [
    "type(B)"
   ]
  },
  {
   "cell_type": "markdown",
   "metadata": {
    "id": "ncYQuRBtNlhK"
   },
   "source": [
    "Let's now add A and B together. \n",
    "\n",
    "But do this by assigning A+B to the variable C."
   ]
  },
  {
   "cell_type": "code",
   "execution_count": 9,
   "metadata": {
    "colab": {
     "base_uri": "https://localhost:8080/"
    },
    "id": "Dn8qF_yDNvoZ",
    "outputId": "06712782-143e-4c9e-9c2b-86f94c11fb62"
   },
   "outputs": [],
   "source": [
    "C=A+B"
   ]
  },
  {
   "cell_type": "markdown",
   "metadata": {
    "id": "0DwUM4I0OVN2"
   },
   "source": [
    "Let's also get the returned type of C."
   ]
  },
  {
   "cell_type": "code",
   "execution_count": 10,
   "metadata": {
    "colab": {
     "base_uri": "https://localhost:8080/"
    },
    "id": "tzAwHzBfOdLu",
    "outputId": "c8ce153c-63b5-478d-d403-3f3e0f5f8456"
   },
   "outputs": [
    {
     "data": {
      "text/plain": [
       "float"
      ]
     },
     "execution_count": 10,
     "metadata": {},
     "output_type": "execute_result"
    }
   ],
   "source": [
    "type(C)"
   ]
  },
  {
   "cell_type": "markdown",
   "metadata": {
    "id": "32VasFXkOjiP"
   },
   "source": [
    "As you can see it's a float python did the work for us on assigning its type based on the variables. If we wanted an `int` returned we would need to assign it.\n",
    "\n",
    "\n",
    "---\n",
    "\n"
   ]
  },
  {
   "cell_type": "markdown",
   "metadata": {
    "id": "e78LunrGPBG0"
   },
   "source": [
    "<a id=\"Conditionals\"></a>\n",
    "## Conditionals\n",
    "\n",
    "| Conditional | Example |\n",
    "| :--- | --- |\n",
    "|Equals: | a == b |\n",
    "|Not Equals: | a != b |\n",
    "|Less than: | a < b |\n",
    "|Less than or equal to: | a <= b |\n",
    "|Greater than: | a > b |\n",
    "|Greater than or equal to: | a >= b |\n"
   ]
  },
  {
   "cell_type": "markdown",
   "metadata": {
    "id": "OIbaOwPiQKXu"
   },
   "source": [
    "Conditionals will be important in the Data Analytics aspect. We will get started with some basic conditionals using our variables from above."
   ]
  },
  {
   "cell_type": "code",
   "execution_count": 13,
   "metadata": {
    "id": "uu_HCYptQrps"
   },
   "outputs": [],
   "source": [
    "if A > B:\n",
    "  print(\"A is greater than B\")"
   ]
  },
  {
   "cell_type": "markdown",
   "metadata": {
    "id": "Okul_jknRCfK"
   },
   "source": [
    "Notice we did **not** get an error message because B is greater than A.\n",
    "<br>\n",
    "<br>\n",
    "A = 40\n",
    "<br>\n",
    "B = 60\n",
    "<br>\n",
    "<br>\n",
    "Use the same code as above and flip the variables. Be sure to edit the print statement to make it correct."
   ]
  },
  {
   "cell_type": "code",
   "execution_count": 14,
   "metadata": {
    "colab": {
     "base_uri": "https://localhost:8080/"
    },
    "id": "rq7rtFX2RfmF",
    "outputId": "0e49bb75-7bfe-488e-970c-669454ae7329"
   },
   "outputs": [
    {
     "name": "stdout",
     "output_type": "stream",
     "text": [
      "B is greater than A\n"
     ]
    }
   ],
   "source": [
    "if B > A:\n",
    "    print(\"B is greater than A\")"
   ]
  },
  {
   "cell_type": "markdown",
   "metadata": {
    "id": "KTWUXONyTjpK"
   },
   "source": [
    "To be more efficient we can combine them into one code block.  \n",
    "\n",
    "-So let's add an `else:` condition to do this in one block of code.   "
   ]
  },
  {
   "cell_type": "code",
   "execution_count": 17,
   "metadata": {
    "colab": {
     "base_uri": "https://localhost:8080/"
    },
    "id": "DEAvgbi0ULqJ",
    "outputId": "d7a33542-8dc9-421c-b1bf-da6920646af4"
   },
   "outputs": [
    {
     "name": "stdout",
     "output_type": "stream",
     "text": [
      "B is greater than A\n"
     ]
    }
   ],
   "source": [
    "if A > B:\n",
    "    print(\"A is greater than B\")\n",
    "\n",
    "else:\n",
    "    print(\"B is greater than A\")"
   ]
  },
  {
   "cell_type": "markdown",
   "metadata": {
    "id": "fmCkWBjxUgXM"
   },
   "source": [
    "This is a step up but, what happens if A and B are the same value? \n",
    "- Lets correct our code by covering that hole. \n",
    "- We will add a `elif A == B:` condition between the `if` and `else:`"
   ]
  },
  {
   "cell_type": "code",
   "execution_count": 18,
   "metadata": {
    "colab": {
     "base_uri": "https://localhost:8080/"
    },
    "id": "nbyDGyJvVeBT",
    "outputId": "09e6399e-9dfc-4194-a760-ccef6bc9148b"
   },
   "outputs": [
    {
     "name": "stdout",
     "output_type": "stream",
     "text": [
      "B is greater than A\n"
     ]
    }
   ],
   "source": [
    "if A > B:\n",
    "    print(\"A is greater than B\")\n",
    "\n",
    "elif A == B:\n",
    "    print(\"A and B are the same value\")\n",
    "else:\n",
    "    print(\"B is greater than A\")"
   ]
  },
  {
   "cell_type": "markdown",
   "metadata": {},
   "source": [
    "**This will verify your work and tell you if you have errors in your code.**"
   ]
  },
  {
   "cell_type": "code",
   "execution_count": 22,
   "metadata": {},
   "outputs": [
    {
     "name": "stdout",
     "output_type": "stream",
     "text": [
      "Y is greater than X\n"
     ]
    }
   ],
   "source": [
    "X = int(10)\n",
    "Y = int(20)\n",
    "\n",
    "if X > Y:\n",
    "    print(\"X is greater than Y\")\n",
    "\n",
    "elif X == Y:\n",
    "    print(\"X and Y are the same value\")\n",
    "else:\n",
    "    print(\"Y is greater than X\")"
   ]
  },
  {
   "cell_type": "markdown",
   "metadata": {
    "id": "cUj_Mzr4WDMP"
   },
   "source": [
    "Let's put everything we learned together:\n",
    "- Define a value the variables **X** & **Y**\n",
    "- Make sure they are assigned as an `int`\n",
    "- Then replicate the if, elif, and else statement\n",
    "- Once you have it working, change the values of **X** & **Y** to verify your code is working correctly."
   ]
  },
  {
   "cell_type": "code",
   "execution_count": 23,
   "metadata": {
    "colab": {
     "base_uri": "https://localhost:8080/"
    },
    "id": "1NNodOLrWHqE",
    "outputId": "019c287d-bc1f-4189-b48a-caa80c0d4cba"
   },
   "outputs": [],
   "source": [
    "X = Y"
   ]
  },
  {
   "cell_type": "markdown",
   "metadata": {
    "id": "i7gf6CjrY5St"
   },
   "source": [
    "<a id=\"Links\"></a>\n",
    "## Links\n",
    "\n",
    "[Variables](https://www.w3schools.com/python/python_variables.asp)\n",
    "<br>\n",
    "[Data Types](https://www.w3schools.com/python/python_datatypes.asp)\n",
    "<br>\n",
    "[Conditions](https://www.w3schools.com/python/python_conditions.asp)"
   ]
  },
  {
   "cell_type": "markdown",
   "metadata": {
    "id": "upz652XxZGFd"
   },
   "source": [
    "## What we learned recap\n",
    "\n",
    "Variables, data types, and conditionals are fundamental concepts in Python programming that serve as building blocks for more advanced tasks, including data analytics. Here's a brief overview of why these concepts are important and how they relate to learning data analytics:\n",
    "\n",
    "- Variables: Variables are used to store and manipulate data in a program. They provide a way to label and reference values or objects, making it easier to work with data. In data analytics, variables are essential for storing datasets, intermediate results, and analysis outputs. Understanding variables allows analysts to organize and manage data effectively during the analysis process.\n",
    "\n",
    "- Data Types: Python supports various data types, including integers, floats, strings, lists, tuples, dictionaries, and more. Each data type has unique properties and behaviors, enabling programmers to represent different kinds of information. In data analytics, knowing how to work with different data types is crucial for processing and analyzing diverse datasets. For example, numeric data types are used for quantitative analysis, while string and categorical data types are common in text analysis and classification tasks.\n",
    "\n",
    "- Conditionals: Conditionals, such as if statements and loops, allow programmers to control the flow of execution based on specified conditions. They enable decision-making and branching in code, allowing different actions to be taken depending on the circumstances. In data analytics, conditionals are used to implement logic for data filtering, ect.\n",
    "\n",
    "Understanding variables, data types, and conditionals in Python lays the groundwork for proficiency in data analytics. Aspiring data analysts can leverage these concepts to manipulate datasets, perform data cleaning and preprocessing, and extract insights from data."
   ]
  },
  {
   "cell_type": "markdown",
   "metadata": {
    "id": "KrhPMubAYWJI"
   },
   "source": [
    "\n",
    "\n",
    "---\n",
    "\n",
    "# END\n",
    "\n",
    "\n",
    "\n",
    "---\n",
    "\n"
   ]
  }
 ],
 "metadata": {
  "colab": {
   "authorship_tag": "ABX9TyO6i1iv4wtaIiXy3Zk4KZqK",
   "include_colab_link": true,
   "provenance": []
  },
  "kernelspec": {
   "display_name": "Python 3 (ipykernel)",
   "language": "python",
   "name": "python3"
  },
  "language_info": {
   "codemirror_mode": {
    "name": "ipython",
    "version": 3
   },
   "file_extension": ".py",
   "mimetype": "text/x-python",
   "name": "python",
   "nbconvert_exporter": "python",
   "pygments_lexer": "ipython3",
   "version": "3.12.4"
  }
 },
 "nbformat": 4,
 "nbformat_minor": 4
}
